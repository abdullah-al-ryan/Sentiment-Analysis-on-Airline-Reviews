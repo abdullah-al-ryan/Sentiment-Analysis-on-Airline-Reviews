{
  "cells": [
    {
      "cell_type": "markdown",
      "metadata": {
        "id": "view-in-github",
        "colab_type": "text"
      },
      "source": [
        "<a href=\"https://colab.research.google.com/github/abdullah-al-ryan/Sentiment-Analysis-on-Airline-Reviews/blob/main/Sentiment_Analysis_on_Airline_Reviews.ipynb\" target=\"_parent\"><img src=\"https://colab.research.google.com/assets/colab-badge.svg\" alt=\"Open In Colab\"/></a>"
      ]
    },
    {
      "cell_type": "code",
      "execution_count": null,
      "metadata": {
        "id": "umugSxxJ5nkE"
      },
      "outputs": [],
      "source": [
        "import pandas as pd\n",
        "import numpy as np\n",
        "import nltk\n",
        "\n",
        "from nltk.tokenize import word_tokenize\n",
        "import re\n",
        "\n",
        "import matplotlib.pyplot as plt\n",
        "%matplotlib inline\n",
        "\n",
        "from sklearn.metrics import accuracy_score, f1_score, confusion_matrix\n",
        "\n",
        "from keras.preprocessing.text import Tokenizer\n",
        "from tensorflow.keras.utils import to_categorical\n",
        "\n",
        "from keras.models import Sequential\n",
        "from keras.layers import Embedding, Bidirectional, LSTM, GRU, Dense, Dropout, SpatialDropout1D\n",
        "from keras.layers import Conv1D , GlobalMaxPooling1D,MaxPooling1D,Conv2D\n",
        "from keras.callbacks import ModelCheckpoint"
      ]
    },
    {
      "cell_type": "code",
      "execution_count": null,
      "metadata": {
        "id": "rB_xLen85t4k"
      },
      "outputs": [],
      "source": [
        "num_classes = 3\n",
        "\n",
        "embed_num_dims = 200\n",
        "max_seq_len = 1000\n",
        "\n",
        "\n",
        "class_names = ['Positive', 'Negative','Neutral']"
      ]
    },
    {
      "cell_type": "code",
      "execution_count": null,
      "metadata": {
        "id": "FrYaT3KJ5t-t"
      },
      "outputs": [],
      "source": [
        "def shuffle(df, n=1, axis=0):\n",
        "    df = df.copy()\n",
        "    for _ in range(n):\n",
        "      df.apply(np.random.shuffle, axis=axis)\n",
        "    return df"
      ]
    },
    {
      "cell_type": "code",
      "execution_count": null,
      "metadata": {
        "id": "rZzy_Pbw5uDz"
      },
      "outputs": [],
      "source": [
        "data= pd.read_excel('/content/air_rev_66.xlsx')"
      ]
    },
    {
      "cell_type": "code",
      "execution_count": null,
      "metadata": {
        "colab": {
          "base_uri": "https://localhost:8080/"
        },
        "id": "sUpWYG5_5uI7",
        "outputId": "8eb18d17-a16f-4f28-9a4e-da287e123629"
      },
      "outputs": [
        {
          "output_type": "stream",
          "name": "stdout",
          "text": [
            "Index(['Comment', 'Class'], dtype='object')\n"
          ]
        }
      ],
      "source": [
        "print(data.columns)"
      ]
    },
    {
      "cell_type": "code",
      "execution_count": null,
      "metadata": {
        "colab": {
          "base_uri": "https://localhost:8080/"
        },
        "id": "3sasaySs5uOC",
        "outputId": "670d6d76-5440-475e-ae09-300b7dc2abb0"
      },
      "outputs": [
        {
          "output_type": "execute_result",
          "data": {
            "text/plain": [
              "True"
            ]
          },
          "metadata": {},
          "execution_count": 42
        }
      ],
      "source": [
        "data.isnull().values.any()"
      ]
    },
    {
      "cell_type": "code",
      "execution_count": null,
      "metadata": {
        "id": "0X2if4Ef5uTf"
      },
      "outputs": [],
      "source": [
        "data.dropna(subset = [\"Comment\",\"Class\"], inplace =True )"
      ]
    },
    {
      "cell_type": "code",
      "execution_count": null,
      "metadata": {
        "id": "vNG5tSek5uY0",
        "colab": {
          "base_uri": "https://localhost:8080/"
        },
        "outputId": "26069b92-3547-4003-8183-d83b30e61756"
      },
      "outputs": [
        {
          "output_type": "execute_result",
          "data": {
            "text/plain": [
              "False"
            ]
          },
          "metadata": {},
          "execution_count": 44
        }
      ],
      "source": [
        "data.isnull().values.any()"
      ]
    },
    {
      "cell_type": "code",
      "execution_count": null,
      "metadata": {
        "id": "kyjAkVJA5ueV",
        "colab": {
          "base_uri": "https://localhost:8080/",
          "height": 466
        },
        "outputId": "8500fa12-ec59-445f-bf64-a99691a55e02"
      },
      "outputs": [
        {
          "output_type": "execute_result",
          "data": {
            "text/plain": [
              "<Axes: xlabel='Class', ylabel='count'>"
            ]
          },
          "metadata": {},
          "execution_count": 45
        },
        {
          "output_type": "display_data",
          "data": {
            "text/plain": [
              "<Figure size 640x480 with 1 Axes>"
            ],
            "image/png": "[encoded data removed]"
          },
          "metadata": {}
        }
      ],
      "source": [
        "import seaborn as sns\n",
        "sns.countplot(x='Class', data=data)"
      ]
    },
    {
      "cell_type": "code",
      "execution_count": null,
      "metadata": {
        "id": "Baldl4n65ukB"
      },
      "outputs": [],
      "source": [
        "data.sort_values(by='Class', axis=0, inplace=True)\n",
        "\n",
        "data.set_index(keys=['Class'], drop=False,inplace=True)\n",
        "Categorys=data['Class'].unique().tolist()"
      ]
    },
    {
      "cell_type": "code",
      "execution_count": null,
      "metadata": {
        "id": "Giwk2GKe5upT",
        "colab": {
          "base_uri": "https://localhost:8080/"
        },
        "outputId": "dd8caed2-75c9-4ec7-cb78-71db75f31b1c"
      },
      "outputs": [
        {
          "output_type": "stream",
          "name": "stderr",
          "text": [
            "/usr/local/lib/python3.10/dist-packages/pandas/core/apply.py:907: UserWarning: you are shuffling a 'Series' object which is not a subclass of 'Sequence'; `shuffle` is not guaranteed to behave correctly. E.g., non-numpy array/tensor objects with view semantics may contain duplicates after shuffling.\n",
            "  results[i] = self.f(v)\n",
            "/usr/local/lib/python3.10/dist-packages/pandas/core/apply.py:907: UserWarning: you are shuffling a 'Series' object which is not a subclass of 'Sequence'; `shuffle` is not guaranteed to behave correctly. E.g., non-numpy array/tensor objects with view semantics may contain duplicates after shuffling.\n",
            "  results[i] = self.f(v)\n",
            "/usr/local/lib/python3.10/dist-packages/pandas/core/apply.py:907: UserWarning: you are shuffling a 'Series' object which is not a subclass of 'Sequence'; `shuffle` is not guaranteed to behave correctly. E.g., non-numpy array/tensor objects with view semantics may contain duplicates after shuffling.\n",
            "  results[i] = self.f(v)\n"
          ]
        }
      ],
      "source": [
        "positives = shuffle(data.loc[data.Class=='Positive'])\n",
        "negatives = shuffle(data.loc[data.Class=='Negative'])\n",
        "neutrals = shuffle(data.loc[data.Class=='Neutral'])"
      ]
    },
    {
      "cell_type": "code",
      "execution_count": null,
      "metadata": {
        "id": "13CA0G0y5uum",
        "colab": {
          "base_uri": "https://localhost:8080/"
        },
        "outputId": "c9d75911-91bf-4ac9-ad1d-5b9eed729053"
      },
      "outputs": [
        {
          "output_type": "stream",
          "name": "stdout",
          "text": [
            "(67922, 2)\n",
            "(67922, 2)\n"
          ]
        }
      ],
      "source": [
        "positives_train = positives.iloc[0:int(positives.shape[0]*1)]\n",
        "positives_test = positives.iloc[0:int(positives.shape[0]*1)]\n",
        "\n",
        "negatives_train = negatives.iloc[0:int(negatives.shape[0]*1)]\n",
        "negatives_test = negatives.iloc[0:int(negatives.shape[0]*1)]\n",
        "\n",
        "neutrals_train = neutrals.iloc[0:int(neutrals.shape[0]*1)]\n",
        "neutrals_test = neutrals.iloc[0:int(neutrals.shape[0]*1)]\n",
        "\n",
        "data_train = pd.concat([positives_train, negatives_train, neutrals_train])\n",
        "data_test = pd.concat([positives_test, negatives_test, neutrals_test])\n",
        "\n",
        "print(data_train.shape)\n",
        "print(data_test.shape)"
      ]
    },
    {
      "cell_type": "code",
      "execution_count": null,
      "metadata": {
        "id": "R_zUVdO-5uzp",
        "colab": {
          "base_uri": "https://localhost:8080/",
          "height": 487
        },
        "outputId": "99c4d2eb-a26b-4283-9d25-b4d0709f7ac6"
      },
      "outputs": [
        {
          "output_type": "stream",
          "name": "stdout",
          "text": [
            "Negative    45314\n",
            "Neutral     45276\n",
            "Positive    45254\n",
            "Name: Class, dtype: int64\n"
          ]
        },
        {
          "output_type": "stream",
          "name": "stderr",
          "text": [
            "<ipython-input-50-b665112266b5>:7: FutureWarning: The frame.append method is deprecated and will be removed from pandas in a future version. Use pandas.concat instead.\n",
            "  data = data_train.append(data_test, ignore_index=True)\n"
          ]
        },
        {
          "output_type": "execute_result",
          "data": {
            "text/plain": [
              "                                             Comment     Class\n",
              "0                                          Great app  Positive\n",
              "1                     Brilliant app. We'll done, BA!  Positive\n",
              "2                                          Excellent  Positive\n",
              "3  I’ve had the AA app for years, but today I use...  Positive\n",
              "4  So far so good, I bought my ticket and paid fo...  Positive\n",
              "5  I love this app. its exciting to look up my fu...  Positive\n",
              "6                                          Great app  Positive\n",
              "7                                  Extremely helpful  Positive\n",
              "8                      one word perfect application.  Positive\n",
              "9                         Easy to use and convenient  Positive"
            ],
            "text/html": [
              "\n",
              "\n",
              "  <div id=\"df-68bf1149-25fa-4895-abbc-45f5fbff5d32\">\n",
              "    <div class=\"colab-df-container\">\n",
              "      <div>\n",
              "<style scoped>\n",
              "    .dataframe tbody tr th:only-of-type {\n",
              "        vertical-align: middle;\n",
              "    }\n",
              "\n",
              "    .dataframe tbody tr th {\n",
              "        vertical-align: top;\n",
              "    }\n",
              "\n",
              "    .dataframe thead th {\n",
              "        text-align: right;\n",
              "    }\n",
              "</style>\n",
              "<table border=\"1\" class=\"dataframe\">\n",
              "  <thead>\n",
              "    <tr style=\"text-align: right;\">\n",
              "      <th></th>\n",
              "      <th>Comment</th>\n",
              "      <th>Class</th>\n",
              "    </tr>\n",
              "  </thead>\n",
              "  <tbody>\n",
              "    <tr>\n",
              "      <th>0</th>\n",
              "      <td>Great app</td>\n",
              "      <td>Positive</td>\n",
              "    </tr>\n",
              "    <tr>\n",
              "      <th>1</th>\n",
              "      <td>Brilliant app. We'll done, BA!</td>\n",
              "      <td>Positive</td>\n",
              "    </tr>\n",
              "    <tr>\n",
              "      <th>2</th>\n",
              "      <td>Excellent</td>\n",
              "      <td>Positive</td>\n",
              "    </tr>\n",
              "    <tr>\n",
              "      <th>3</th>\n",
              "      <td>I’ve had the AA app for years, but today I use...</td>\n",
              "      <td>Positive</td>\n",
              "    </tr>\n",
              "    <tr>\n",
              "      <th>4</th>\n",
              "      <td>So far so good, I bought my ticket and paid fo...</td>\n",
              "      <td>Positive</td>\n",
              "    </tr>\n",
              "    <tr>\n",
              "      <th>5</th>\n",
              "      <td>I love this app. its exciting to look up my fu...</td>\n",
              "      <td>Positive</td>\n",
              "    </tr>\n",
              "    <tr>\n",
              "      <th>6</th>\n",
              "      <td>Great app</td>\n",
              "      <td>Positive</td>\n",
              "    </tr>\n",
              "    <tr>\n",
              "      <th>7</th>\n",
              "      <td>Extremely helpful</td>\n",
              "      <td>Positive</td>\n",
              "    </tr>\n",
              "    <tr>\n",
              "      <th>8</th>\n",
              "      <td>one word perfect application.</td>\n",
              "      <td>Positive</td>\n",
              "    </tr>\n",
              "    <tr>\n",
              "      <th>9</th>\n",
              "      <td>Easy to use and convenient</td>\n",
              "      <td>Positive</td>\n",
              "    </tr>\n",
              "  </tbody>\n",
              "</table>\n",
              "</div>\n",
              "      <button class=\"colab-df-convert\" onclick=\"convertToInteractive('df-68bf1149-25fa-4895-abbc-45f5fbff5d32')\"\n",
              "              title=\"Convert this dataframe to an interactive table.\"\n",
              "              style=\"display:none;\">\n",
              "\n",
              "  <svg xmlns=\"http://www.w3.org/2000/svg\" height=\"24px\"viewBox=\"0 0 24 24\"\n",
              "       width=\"24px\">\n",
              "    <path d=\"M0 0h24v24H0V0z\" fill=\"none\"/>\n",
              "    <path d=\"M18.56 5.44l.94 2.06.94-2.06 2.06-.94-2.06-.94-.94-2.06-.94 2.06-2.06.94zm-11 1L8.5 8.5l.94-2.06 2.06-.94-2.06-.94L8.5 2.5l-.94 2.06-2.06.94zm10 10l.94 2.06.94-2.06 2.06-.94-2.06-.94-.94-2.06-.94 2.06-2.06.94z\"/><path d=\"M17.41 7.96l-1.37-1.37c-.4-.4-.92-.59-1.43-.59-.52 0-1.04.2-1.43.59L10.3 9.45l-7.72 7.72c-.78.78-.78 2.05 0 2.83L4 21.41c.39.39.9.59 1.41.59.51 0 1.02-.2 1.41-.59l7.78-7.78 2.81-2.81c.8-.78.8-2.07 0-2.86zM5.41 20L4 18.59l7.72-7.72 1.47 1.35L5.41 20z\"/>\n",
              "  </svg>\n",
              "      </button>\n",
              "\n",
              "\n",
              "\n",
              "    <div id=\"df-d00152ab-85dc-4d19-ad7b-5f70a535cef7\">\n",
              "      <button class=\"colab-df-quickchart\" onclick=\"quickchart('df-d00152ab-85dc-4d19-ad7b-5f70a535cef7')\"\n",
              "              title=\"Suggest charts.\"\n",
              "              style=\"display:none;\">\n",
              "\n",
              "<svg xmlns=\"http://www.w3.org/2000/svg\" height=\"24px\"viewBox=\"0 0 24 24\"\n",
              "     width=\"24px\">\n",
              "    <g>\n",
              "        <path d=\"M19 3H5c-1.1 0-2 .9-2 2v14c0 1.1.9 2 2 2h14c1.1 0 2-.9 2-2V5c0-1.1-.9-2-2-2zM9 17H7v-7h2v7zm4 0h-2V7h2v10zm4 0h-2v-4h2v4z\"/>\n",
              "    </g>\n",
              "</svg>\n",
              "      </button>\n",
              "    </div>\n",
              "\n",
              "<style>\n",
              "  .colab-df-quickchart {\n",
              "    background-color: #E8F0FE;\n",
              "    border: none;\n",
              "    border-radius: 50%;\n",
              "    cursor: pointer;\n",
              "    display: none;\n",
              "    fill: #1967D2;\n",
              "    height: 32px;\n",
              "    padding: 0 0 0 0;\n",
              "    width: 32px;\n",
              "  }\n",
              "\n",
              "  .colab-df-quickchart:hover {\n",
              "    background-color: #E2EBFA;\n",
              "    box-shadow: 0px 1px 2px rgba(60, 64, 67, 0.3), 0px 1px 3px 1px rgba(60, 64, 67, 0.15);\n",
              "    fill: #174EA6;\n",
              "  }\n",
              "\n",
              "  [theme=dark] .colab-df-quickchart {\n",
              "    background-color: #3B4455;\n",
              "    fill: #D2E3FC;\n",
              "  }\n",
              "\n",
              "  [theme=dark] .colab-df-quickchart:hover {\n",
              "    background-color: #434B5C;\n",
              "    box-shadow: 0px 1px 3px 1px rgba(0, 0, 0, 0.15);\n",
              "    filter: drop-shadow(0px 1px 2px rgba(0, 0, 0, 0.3));\n",
              "    fill: #FFFFFF;\n",
              "  }\n",
              "</style>\n",
              "\n",
              "    <script>\n",
              "      async function quickchart(key) {\n",
              "        const containerElement = document.querySelector('#' + key);\n",
              "        const charts = await google.colab.kernel.invokeFunction(\n",
              "            'suggestCharts', [key], {});\n",
              "      }\n",
              "    </script>\n",
              "\n",
              "      <script>\n",
              "\n",
              "function displayQuickchartButton(domScope) {\n",
              "  let quickchartButtonEl =\n",
              "    domScope.querySelector('#df-d00152ab-85dc-4d19-ad7b-5f70a535cef7 button.colab-df-quickchart');\n",
              "  quickchartButtonEl.style.display =\n",
              "    google.colab.kernel.accessAllowed ? 'block' : 'none';\n",
              "}\n",
              "\n",
              "        displayQuickchartButton(document);\n",
              "      </script>\n",
              "      <style>\n",
              "    .colab-df-container {\n",
              "      display:flex;\n",
              "      flex-wrap:wrap;\n",
              "      gap: 12px;\n",
              "    }\n",
              "\n",
              "    .colab-df-convert {\n",
              "      background-color: #E8F0FE;\n",
              "      border: none;\n",
              "      border-radius: 50%;\n",
              "      cursor: pointer;\n",
              "      display: none;\n",
              "      fill: #1967D2;\n",
              "      height: 32px;\n",
              "      padding: 0 0 0 0;\n",
              "      width: 32px;\n",
              "    }\n",
              "\n",
              "    .colab-df-convert:hover {\n",
              "      background-color: #E2EBFA;\n",
              "      box-shadow: 0px 1px 2px rgba(60, 64, 67, 0.3), 0px 1px 3px 1px rgba(60, 64, 67, 0.15);\n",
              "      fill: #174EA6;\n",
              "    }\n",
              "\n",
              "    [theme=dark] .colab-df-convert {\n",
              "      background-color: #3B4455;\n",
              "      fill: #D2E3FC;\n",
              "    }\n",
              "\n",
              "    [theme=dark] .colab-df-convert:hover {\n",
              "      background-color: #434B5C;\n",
              "      box-shadow: 0px 1px 3px 1px rgba(0, 0, 0, 0.15);\n",
              "      filter: drop-shadow(0px 1px 2px rgba(0, 0, 0, 0.3));\n",
              "      fill: #FFFFFF;\n",
              "    }\n",
              "  </style>\n",
              "\n",
              "      <script>\n",
              "        const buttonEl =\n",
              "          document.querySelector('#df-68bf1149-25fa-4895-abbc-45f5fbff5d32 button.colab-df-convert');\n",
              "        buttonEl.style.display =\n",
              "          google.colab.kernel.accessAllowed ? 'block' : 'none';\n",
              "\n",
              "        async function convertToInteractive(key) {\n",
              "          const element = document.querySelector('#df-68bf1149-25fa-4895-abbc-45f5fbff5d32');\n",
              "          const dataTable =\n",
              "            await google.colab.kernel.invokeFunction('convertToInteractive',\n",
              "                                                     [key], {});\n",
              "          if (!dataTable) return;\n",
              "\n",
              "          const docLinkHtml = 'Like what you see? Visit the ' +\n",
              "            '<a target=\"_blank\" href=https://colab.research.google.com/notebooks/data_table.ipynb>data table notebook</a>'\n",
              "            + ' to learn more about interactive tables.';\n",
              "          element.innerHTML = '';\n",
              "          dataTable['output_type'] = 'display_data';\n",
              "          await google.colab.output.renderOutput(dataTable, element);\n",
              "          const docLink = document.createElement('div');\n",
              "          docLink.innerHTML = docLinkHtml;\n",
              "          element.appendChild(docLink);\n",
              "        }\n",
              "      </script>\n",
              "    </div>\n",
              "  </div>\n"
            ]
          },
          "metadata": {},
          "execution_count": 50
        }
      ],
      "source": [
        "X_train = data_train.Comment\n",
        "X_test = data_test.Comment\n",
        "\n",
        "y_train = data_train.Class\n",
        "y_test = data_test.Class\n",
        "\n",
        "data = data_train.append(data_test, ignore_index=True)\n",
        "\n",
        "print(data.Class.value_counts())\n",
        "data.head(10)"
      ]
    },
    {
      "cell_type": "code",
      "execution_count": null,
      "metadata": {
        "id": "I83eMO-f5u4i",
        "colab": {
          "base_uri": "https://localhost:8080/"
        },
        "outputId": "0ead6b0c-55b5-4a86-9d66-031070fdaf74"
      },
      "outputs": [
        {
          "output_type": "stream",
          "name": "stdout",
          "text": [
            "Comment    object\n",
            "Class      object\n",
            "dtype: object\n"
          ]
        }
      ],
      "source": [
        "print(data.dtypes)\n"
      ]
    },
    {
      "cell_type": "code",
      "execution_count": null,
      "metadata": {
        "id": "kkPs5Bi65u95",
        "colab": {
          "base_uri": "https://localhost:8080/"
        },
        "outputId": "bfb03ebb-1267-4a16-a755-5a98dcdd4b90"
      },
      "outputs": [
        {
          "output_type": "stream",
          "name": "stdout",
          "text": [
            "Negative    22657\n",
            "Neutral     22638\n",
            "Positive    22627\n",
            "Name: Class, dtype: int64\n",
            "Negative    22657\n",
            "Neutral     22638\n",
            "Positive    22627\n",
            "Name: Class, dtype: int64\n"
          ]
        }
      ],
      "source": [
        "print(data_train.Class.value_counts())\n",
        "print(data_test.Class.value_counts())"
      ]
    },
    {
      "cell_type": "code",
      "execution_count": null,
      "metadata": {
        "id": "AXalK_6e5vC-"
      },
      "outputs": [],
      "source": [
        "def clean_text(data):\n",
        "    data = re.sub(r\"(#[\\d\\w\\.]+)\", '', data)\n",
        "    data = re.sub(r\"(@[\\d\\w\\.]+)\", '', data)\n",
        "    data = word_tokenize(data)\n",
        "\n",
        "    return data"
      ]
    },
    {
      "cell_type": "code",
      "source": [
        "import nltk\n",
        "nltk.download('punkt')"
      ],
      "metadata": {
        "colab": {
          "base_uri": "https://localhost:8080/"
        },
        "id": "UcjmTBjx-yc9",
        "outputId": "49966f5c-094b-40ff-86ff-bd0a84273ca7"
      },
      "execution_count": null,
      "outputs": [
        {
          "output_type": "stream",
          "name": "stderr",
          "text": [
            "[nltk_data] Downloading package punkt to /root/nltk_data...\n",
            "[nltk_data]   Unzipping tokenizers/punkt.zip.\n"
          ]
        },
        {
          "output_type": "execute_result",
          "data": {
            "text/plain": [
              "True"
            ]
          },
          "metadata": {},
          "execution_count": 54
        }
      ]
    },
    {
      "cell_type": "code",
      "source": [
        "import re\n",
        "from nltk.tokenize import word_tokenize\n",
        "def remove_emojis(text):\n",
        "    # Emoji pattern: Matches any unicode emoji\n",
        "    emoji_pattern = re.compile(\"[\\U0001F600-\\U0001F64F]|[\\U0001F300-\\U0001F5FF]|[\\U0001F680-\\U0001F6FF]|[\\U0001F1E0-\\U0001F1FF]|[\\U00002702-\\U000027B0]|[\\U000024C2-\\U0001F251]\", flags=re.UNICODE)\n",
        "    return emoji_pattern.sub(r'', text)\n",
        "\n",
        "def clean_text(data):\n",
        "    # Check if data is None or NaN, and convert to an empty string\n",
        "    if data is None or pd.isnull(data):\n",
        "        data = ''\n",
        "\n",
        "    # Convert data to string if it's not already\n",
        "    if not isinstance(data, str):\n",
        "        data = str(data)\n",
        "\n",
        "    # Text cleaning operations\n",
        "    data = re.sub(r\"(#[\\d\\w\\.]+)\", '', data)\n",
        "    data = re.sub(r\"(@[\\d\\w\\.]+)\", '', data)\n",
        "    data = remove_emojis(data)\n",
        "    data_tokens = word_tokenize(data)\n",
        "    cleaned_data = ' '.join(data_tokens)\n",
        "\n",
        "    return cleaned_data\n",
        "\n",
        "texts = [clean_text(text) for text in data.Comment]\n",
        "texts_train = [clean_text(text) for text in X_train]\n",
        "texts_test = [clean_text(text) for text in X_test]\n",
        "\n",
        "print(texts_train[50])"
      ],
      "metadata": {
        "colab": {
          "base_uri": "https://localhost:8080/"
        },
        "id": "oKGpHQs0-yfr",
        "outputId": "0b3a625c-2084-4c3a-8177-2c152231079e"
      },
      "execution_count": null,
      "outputs": [
        {
          "output_type": "stream",
          "name": "stdout",
          "text": [
            "Nice\n"
          ]
        }
      ]
    },
    {
      "cell_type": "code",
      "source": [
        "tokenizer = Tokenizer()\n",
        "tokenizer.fit_on_texts(texts)\n",
        "\n",
        "sequence_train = tokenizer.texts_to_sequences(texts_train)\n",
        "sequence_test = tokenizer.texts_to_sequences(texts_test)\n",
        "\n",
        "index_of_words = tokenizer.word_index\n",
        "\n",
        "vocab_size = len(index_of_words) + 1\n",
        "\n",
        "print('Number of unique words: {}'.format(len(index_of_words)))"
      ],
      "metadata": {
        "colab": {
          "base_uri": "https://localhost:8080/"
        },
        "id": "6x_tyC4Q-yih",
        "outputId": "0226d5fd-4a35-43e0-a660-9818c8918e1f"
      },
      "execution_count": null,
      "outputs": [
        {
          "output_type": "stream",
          "name": "stdout",
          "text": [
            "Number of unique words: 24205\n"
          ]
        }
      ]
    },
    {
      "cell_type": "code",
      "source": [
        "!pip install Keras-Preprocessing"
      ],
      "metadata": {
        "colab": {
          "base_uri": "https://localhost:8080/"
        },
        "id": "-ziycHlp-ylc",
        "outputId": "adf5810d-f3f3-4d60-ac0a-e4dc1616db07"
      },
      "execution_count": null,
      "outputs": [
        {
          "output_type": "stream",
          "name": "stdout",
          "text": [
            "Collecting Keras-Preprocessing\n",
            "  Downloading Keras_Preprocessing-1.1.2-py2.py3-none-any.whl (42 kB)\n",
            "\u001b[2K     \u001b[90m━━━━━━━━━━━━━━━━━━━━━━━━━━━━━━━━━━━━━━━━\u001b[0m \u001b[32m42.6/42.6 kB\u001b[0m \u001b[31m1.4 MB/s\u001b[0m eta \u001b[36m0:00:00\u001b[0m\n",
            "\u001b[?25hRequirement already satisfied: numpy>=1.9.1 in /usr/local/lib/python3.10/dist-packages (from Keras-Preprocessing) (1.22.4)\n",
            "Requirement already satisfied: six>=1.9.0 in /usr/local/lib/python3.10/dist-packages (from Keras-Preprocessing) (1.16.0)\n",
            "Installing collected packages: Keras-Preprocessing\n",
            "Successfully installed Keras-Preprocessing-1.1.2\n"
          ]
        }
      ]
    },
    {
      "cell_type": "code",
      "source": [
        "from keras_preprocessing.sequence import pad_sequences"
      ],
      "metadata": {
        "id": "TUQAiDMd-_f-"
      },
      "execution_count": null,
      "outputs": []
    },
    {
      "cell_type": "code",
      "source": [
        "X_train_pad = pad_sequences(sequence_train, maxlen = max_seq_len )\n",
        "X_test_pad = pad_sequences(sequence_test, maxlen = max_seq_len )\n",
        "\n",
        "X_train_pad"
      ],
      "metadata": {
        "colab": {
          "base_uri": "https://localhost:8080/"
        },
        "id": "RpvBhUV--_iM",
        "outputId": "e16f0962-217d-4855-98e2-043cae774760"
      },
      "execution_count": null,
      "outputs": [
        {
          "output_type": "execute_result",
          "data": {
            "text/plain": [
              "array([[    0,     0,     0, ...,     0,    43,     4],\n",
              "       [    0,     0,     0, ...,   502,   340,   185],\n",
              "       [    0,     0,     0, ...,     0,     0,   123],\n",
              "       ...,\n",
              "       [    0,     0,     0, ...,   257,  2155,   705],\n",
              "       [    0,     0,     0, ...,   534,   173,   385],\n",
              "       [    0,     0,     0, ..., 24204, 11548, 24205]], dtype=int32)"
            ]
          },
          "metadata": {},
          "execution_count": 59
        }
      ]
    },
    {
      "cell_type": "code",
      "source": [
        "encoding = {\n",
        "    'Positive': 0,\n",
        "    'Negative': 1,\n",
        "    'Neutral': 2\n",
        "}\n",
        "\n",
        "y_train = [encoding[x] for x in data_train.Class]\n",
        "y_test = [encoding[x] for x in data_test.Class]\n",
        "\n",
        "y_train = to_categorical(y_train)\n",
        "y_test = to_categorical(y_test)\n",
        "\n",
        "y_train"
      ],
      "metadata": {
        "colab": {
          "base_uri": "https://localhost:8080/"
        },
        "id": "h4tdmfic-_kt",
        "outputId": "d3e0f7bd-3af0-4974-be6f-826c0200e572"
      },
      "execution_count": null,
      "outputs": [
        {
          "output_type": "execute_result",
          "data": {
            "text/plain": [
              "array([[1., 0., 0.],\n",
              "       [1., 0., 0.],\n",
              "       [1., 0., 0.],\n",
              "       ...,\n",
              "       [0., 0., 1.],\n",
              "       [0., 0., 1.],\n",
              "       [0., 0., 1.]], dtype=float32)"
            ]
          },
          "metadata": {},
          "execution_count": 60
        }
      ]
    },
    {
      "cell_type": "code",
      "source": [
        "GLOVE_DIM = 200\n",
        "\n",
        "import urllib.request\n",
        "import zipfile\n",
        "import os\n",
        "\n",
        "fname = 'glove.twitter.27B.' + str(GLOVE_DIM) + 'd.txt'\n",
        "\n",
        "if not os.path.isfile(fname):\n",
        "    print('Downloading word vectors...')\n",
        "    urllib.request.urlretrieve('http://nlp.stanford.edu/data/glove.twitter.27B.zip',\n",
        "                              'glove.twitter.27B.zip')\n",
        "    print('Unzipping...')\n",
        "    with zipfile.ZipFile('glove.twitter.27B.zip', 'r') as zip_ref:\n",
        "        zip_ref.extractall('')\n",
        "    print('done.')\n",
        "\n",
        "    os.remove('glove.twitter.27B.zip')"
      ],
      "metadata": {
        "colab": {
          "base_uri": "https://localhost:8080/"
        },
        "id": "gYSNJLGx-_m9",
        "outputId": "7210d7a8-55bc-4fb2-f55a-9bc70966c4c8"
      },
      "execution_count": null,
      "outputs": [
        {
          "output_type": "stream",
          "name": "stdout",
          "text": [
            "Downloading word vectors...\n",
            "Unzipping...\n",
            "done.\n"
          ]
        }
      ]
    },
    {
      "cell_type": "code",
      "source": [
        "glove_file = 'glove.twitter.27B.' + str(GLOVE_DIM) + 'd.txt'\n",
        "emb_dict = {}\n",
        "glove = open(glove_file)\n",
        "for line in glove:\n",
        "    values = line.split()\n",
        "    word = values[0]\n",
        "    vector = np.asarray(values[1:], dtype='float32')\n",
        "    emb_dict[word] = vector\n",
        "glove.close()\n",
        "\n",
        "NB_WORDS = vocab_size\n",
        "MAX_LEN = max_seq_len\n",
        "\n",
        "emb_matrix = np.zeros((NB_WORDS, GLOVE_DIM))\n",
        "for w, i in tokenizer.word_index.items():\n",
        "    if i < NB_WORDS:\n",
        "        vect = emb_dict.get(w)\n",
        "        if vect is not None:\n",
        "          emb_matrix[i] = vect\n",
        "    else:\n",
        "        break"
      ],
      "metadata": {
        "id": "JvJCl7b--_pc"
      },
      "execution_count": null,
      "outputs": []
    },
    {
      "cell_type": "code",
      "source": [
        "embedd_layer = Embedding(vocab_size,\n",
        "                         GLOVE_DIM,\n",
        "                         input_length = max_seq_len,\n",
        "                         weights = [emb_matrix],\n",
        "                         trainable=False)\n",
        "\n",
        "lstm_size = 128"
      ],
      "metadata": {
        "id": "19XyxwWB-_sE"
      },
      "execution_count": null,
      "outputs": []
    },
    {
      "cell_type": "code",
      "source": [
        "model = Sequential()\n",
        "model.add(embedd_layer)\n",
        "\n",
        "model.add(SpatialDropout1D(0.2))\n",
        "\n",
        "model.add(Conv1D(filters=32, kernel_size=3, padding='same', activation='relu'))\n",
        "model.add(MaxPooling1D(pool_size=2))\n",
        "\n",
        "model.add(Conv1D(filters=32, kernel_size=3, padding='same', activation='relu'))\n",
        "model.add(MaxPooling1D(pool_size=2))\n",
        "\n",
        "model.add(Dropout(0.5))\n",
        "\n",
        "model.add(Bidirectional(LSTM(lstm_size, return_sequences = True)))\n",
        "model.add(Dropout(0.5))\n",
        "\n",
        "model.add(Bidirectional(LSTM(lstm_size)))\n",
        "model.add(Dropout(0.5))\n",
        "\n",
        "model.add(Dense(num_classes, activation='softmax'))\n",
        "\n",
        "model.compile(loss = 'categorical_crossentropy', optimizer = 'adam', metrics = ['accuracy'])\n",
        "model.summary()"
      ],
      "metadata": {
        "colab": {
          "base_uri": "https://localhost:8080/"
        },
        "id": "cotY5ce8-_uM",
        "outputId": "5183dd41-7cb1-4bab-bf28-f6e1c657bb60"
      },
      "execution_count": null,
      "outputs": [
        {
          "output_type": "stream",
          "name": "stdout",
          "text": [
            "Model: \"sequential\"\n",
            "_________________________________________________________________\n",
            " Layer (type)                Output Shape              Param #   \n",
            "=================================================================\n",
            " embedding (Embedding)       (None, 1000, 200)         4841200   \n",
            "                                                                 \n",
            " spatial_dropout1d (SpatialD  (None, 1000, 200)        0         \n",
            " ropout1D)                                                       \n",
            "                                                                 \n",
            " conv1d (Conv1D)             (None, 1000, 32)          19232     \n",
            "                                                                 \n",
            " max_pooling1d (MaxPooling1D  (None, 500, 32)          0         \n",
            " )                                                               \n",
            "                                                                 \n",
            " conv1d_1 (Conv1D)           (None, 500, 32)           3104      \n",
            "                                                                 \n",
            " max_pooling1d_1 (MaxPooling  (None, 250, 32)          0         \n",
            " 1D)                                                             \n",
            "                                                                 \n",
            " dropout (Dropout)           (None, 250, 32)           0         \n",
            "                                                                 \n",
            " bidirectional (Bidirectiona  (None, 250, 256)         164864    \n",
            " l)                                                              \n",
            "                                                                 \n",
            " dropout_1 (Dropout)         (None, 250, 256)          0         \n",
            "                                                                 \n",
            " bidirectional_1 (Bidirectio  (None, 256)              394240    \n",
            " nal)                                                            \n",
            "                                                                 \n",
            " dropout_2 (Dropout)         (None, 256)               0         \n",
            "                                                                 \n",
            " dense (Dense)               (None, 3)                 771       \n",
            "                                                                 \n",
            "=================================================================\n",
            "Total params: 5,423,411\n",
            "Trainable params: 582,211\n",
            "Non-trainable params: 4,841,200\n",
            "_________________________________________________________________\n"
          ]
        }
      ]
    },
    {
      "cell_type": "code",
      "source": [
        "from keras.utils.vis_utils import plot_model\n",
        "plot_model(model, to_file='model_plot.png', show_shapes=True, show_layer_names=True)"
      ],
      "metadata": {
        "colab": {
          "base_uri": "https://localhost:8080/",
          "height": 1000
        },
        "id": "CHSKrP2i-_wm",
        "outputId": "708d50d6-5a2e-4916-9d1b-04e679bed696"
      },
      "execution_count": null,
      "outputs": [
        {
          "output_type": "execute_result",
          "data": {
            "image/png": "[encoded data removed]",
            "text/plain": [
              "<IPython.core.display.Image object>"
            ]
          },
          "metadata": {},
          "execution_count": 65
        }
      ]
    },
    {
      "cell_type": "code",
      "source": [
        "from time import time\n",
        "t1 = time()\n",
        "\n",
        "batch_size = 256\n",
        "epochs = 70\n",
        "\n",
        "print(X_test_pad.shape)\n",
        "print(y_test.shape)\n",
        "\n",
        "print(X_train_pad.shape)\n",
        "print(y_train.shape)"
      ],
      "metadata": {
        "colab": {
          "base_uri": "https://localhost:8080/"
        },
        "id": "E1urZBVO-_zR",
        "outputId": "237fad88-c6fc-417a-9d5b-241d2afbe782"
      },
      "execution_count": null,
      "outputs": [
        {
          "output_type": "stream",
          "name": "stdout",
          "text": [
            "(67922, 1000)\n",
            "(67922, 3)\n",
            "(67922, 1000)\n",
            "(67922, 3)\n"
          ]
        }
      ]
    },
    {
      "cell_type": "code",
      "source": [
        "hist = model.fit(X_train_pad, y_train,\n",
        "                 batch_size=batch_size,\n",
        "                 epochs=epochs,\n",
        "                 validation_data=(X_test_pad,y_test))"
      ],
      "metadata": {
        "colab": {
          "base_uri": "https://localhost:8080/"
        },
        "id": "nRof4emc-_1H",
        "outputId": "27e6d9f8-4d91-4fdb-f7b0-7aaec8b5f53a"
      },
      "execution_count": null,
      "outputs": [
        {
          "output_type": "stream",
          "name": "stdout",
          "text": [
            "Epoch 1/70\n",
            "266/266 [==============================] - 67s 175ms/step - loss: 0.7868 - accuracy: 0.6166 - val_loss: 0.6612 - val_accuracy: 0.6910\n",
            "Epoch 2/70\n",
            "266/266 [==============================] - 47s 176ms/step - loss: 0.6755 - accuracy: 0.6867 - val_loss: 0.6128 - val_accuracy: 0.7224\n",
            "Epoch 3/70\n",
            "266/266 [==============================] - 56s 210ms/step - loss: 0.6518 - accuracy: 0.7023 - val_loss: 0.6121 - val_accuracy: 0.7216\n",
            "Epoch 4/70\n",
            "266/266 [==============================] - 57s 213ms/step - loss: 0.6364 - accuracy: 0.7106 - val_loss: 0.5823 - val_accuracy: 0.7347\n",
            "Epoch 5/70\n",
            "266/266 [==============================] - 57s 214ms/step - loss: 0.6222 - accuracy: 0.7182 - val_loss: 0.5738 - val_accuracy: 0.7429\n",
            "Epoch 6/70\n",
            "266/266 [==============================] - 57s 213ms/step - loss: 0.6165 - accuracy: 0.7204 - val_loss: 0.5725 - val_accuracy: 0.7414\n",
            "Epoch 7/70\n",
            "266/266 [==============================] - 49s 184ms/step - loss: 0.6097 - accuracy: 0.7238 - val_loss: 0.5578 - val_accuracy: 0.7494\n",
            "Epoch 8/70\n",
            "266/266 [==============================] - 56s 212ms/step - loss: 0.6016 - accuracy: 0.7282 - val_loss: 0.5526 - val_accuracy: 0.7521\n",
            "Epoch 9/70\n",
            "266/266 [==============================] - 57s 214ms/step - loss: 0.5990 - accuracy: 0.7302 - val_loss: 0.5541 - val_accuracy: 0.7507\n",
            "Epoch 10/70\n",
            "266/266 [==============================] - 57s 213ms/step - loss: 0.5933 - accuracy: 0.7317 - val_loss: 0.5476 - val_accuracy: 0.7555\n",
            "Epoch 11/70\n",
            "266/266 [==============================] - 57s 213ms/step - loss: 0.5898 - accuracy: 0.7344 - val_loss: 0.5415 - val_accuracy: 0.7601\n",
            "Epoch 12/70\n",
            "266/266 [==============================] - 49s 184ms/step - loss: 0.5828 - accuracy: 0.7362 - val_loss: 0.5440 - val_accuracy: 0.7585\n",
            "Epoch 13/70\n",
            "266/266 [==============================] - 56s 212ms/step - loss: 0.5832 - accuracy: 0.7380 - val_loss: 0.5413 - val_accuracy: 0.7566\n",
            "Epoch 14/70\n",
            "266/266 [==============================] - 49s 185ms/step - loss: 0.5799 - accuracy: 0.7388 - val_loss: 0.5344 - val_accuracy: 0.7645\n",
            "Epoch 15/70\n",
            "266/266 [==============================] - 56s 211ms/step - loss: 0.5769 - accuracy: 0.7420 - val_loss: 0.5272 - val_accuracy: 0.7666\n",
            "Epoch 16/70\n",
            "266/266 [==============================] - 57s 215ms/step - loss: 0.5727 - accuracy: 0.7447 - val_loss: 0.5264 - val_accuracy: 0.7674\n",
            "Epoch 17/70\n",
            "266/266 [==============================] - 57s 214ms/step - loss: 0.5726 - accuracy: 0.7447 - val_loss: 0.5285 - val_accuracy: 0.7691\n",
            "Epoch 18/70\n",
            "266/266 [==============================] - 49s 185ms/step - loss: 0.5699 - accuracy: 0.7463 - val_loss: 0.5322 - val_accuracy: 0.7655\n",
            "Epoch 19/70\n",
            "266/266 [==============================] - 57s 214ms/step - loss: 0.5668 - accuracy: 0.7471 - val_loss: 0.5152 - val_accuracy: 0.7729\n",
            "Epoch 20/70\n",
            "266/266 [==============================] - 57s 215ms/step - loss: 0.5633 - accuracy: 0.7489 - val_loss: 0.5181 - val_accuracy: 0.7746\n",
            "Epoch 21/70\n",
            "266/266 [==============================] - 49s 185ms/step - loss: 0.5634 - accuracy: 0.7493 - val_loss: 0.5197 - val_accuracy: 0.7744\n",
            "Epoch 22/70\n",
            "266/266 [==============================] - 57s 213ms/step - loss: 0.5622 - accuracy: 0.7511 - val_loss: 0.5150 - val_accuracy: 0.7737\n",
            "Epoch 23/70\n",
            "266/266 [==============================] - 57s 214ms/step - loss: 0.5608 - accuracy: 0.7492 - val_loss: 0.5100 - val_accuracy: 0.7774\n",
            "Epoch 24/70\n",
            "266/266 [==============================] - 57s 213ms/step - loss: 0.5587 - accuracy: 0.7501 - val_loss: 0.5130 - val_accuracy: 0.7752\n",
            "Epoch 25/70\n",
            "266/266 [==============================] - 49s 186ms/step - loss: 0.5562 - accuracy: 0.7528 - val_loss: 0.5108 - val_accuracy: 0.7796\n",
            "Epoch 26/70\n",
            "266/266 [==============================] - 57s 214ms/step - loss: 0.5558 - accuracy: 0.7531 - val_loss: 0.5067 - val_accuracy: 0.7809\n",
            "Epoch 27/70\n",
            "266/266 [==============================] - 57s 215ms/step - loss: 0.5547 - accuracy: 0.7546 - val_loss: 0.5050 - val_accuracy: 0.7791\n",
            "Epoch 28/70\n",
            "266/266 [==============================] - 57s 214ms/step - loss: 0.5531 - accuracy: 0.7535 - val_loss: 0.5030 - val_accuracy: 0.7818\n",
            "Epoch 29/70\n",
            "266/266 [==============================] - 49s 185ms/step - loss: 0.5515 - accuracy: 0.7556 - val_loss: 0.5013 - val_accuracy: 0.7815\n",
            "Epoch 30/70\n",
            "266/266 [==============================] - 56s 212ms/step - loss: 0.5516 - accuracy: 0.7554 - val_loss: 0.4982 - val_accuracy: 0.7824\n",
            "Epoch 31/70\n",
            "266/266 [==============================] - 57s 215ms/step - loss: 0.5503 - accuracy: 0.7556 - val_loss: 0.4993 - val_accuracy: 0.7825\n",
            "Epoch 32/70\n",
            "266/266 [==============================] - 57s 213ms/step - loss: 0.5493 - accuracy: 0.7582 - val_loss: 0.4956 - val_accuracy: 0.7848\n",
            "Epoch 33/70\n",
            "266/266 [==============================] - 57s 213ms/step - loss: 0.5497 - accuracy: 0.7554 - val_loss: 0.4976 - val_accuracy: 0.7832\n",
            "Epoch 34/70\n",
            "266/266 [==============================] - 49s 184ms/step - loss: 0.5472 - accuracy: 0.7575 - val_loss: 0.5029 - val_accuracy: 0.7853\n",
            "Epoch 35/70\n",
            "266/266 [==============================] - 56s 212ms/step - loss: 0.5453 - accuracy: 0.7594 - val_loss: 0.4966 - val_accuracy: 0.7853\n",
            "Epoch 36/70\n",
            "266/266 [==============================] - 57s 215ms/step - loss: 0.5462 - accuracy: 0.7567 - val_loss: 0.4937 - val_accuracy: 0.7877\n",
            "Epoch 37/70\n",
            "266/266 [==============================] - 57s 213ms/step - loss: 0.5441 - accuracy: 0.7596 - val_loss: 0.4977 - val_accuracy: 0.7853\n",
            "Epoch 38/70\n",
            "266/266 [==============================] - 49s 184ms/step - loss: 0.5444 - accuracy: 0.7599 - val_loss: 0.4952 - val_accuracy: 0.7873\n",
            "Epoch 39/70\n",
            "266/266 [==============================] - 57s 213ms/step - loss: 0.5429 - accuracy: 0.7596 - val_loss: 0.4893 - val_accuracy: 0.7885\n",
            "Epoch 40/70\n",
            "266/266 [==============================] - 57s 214ms/step - loss: 0.5439 - accuracy: 0.7598 - val_loss: 0.4910 - val_accuracy: 0.7883\n",
            "Epoch 41/70\n",
            "266/266 [==============================] - 57s 213ms/step - loss: 0.5417 - accuracy: 0.7607 - val_loss: 0.4978 - val_accuracy: 0.7895\n",
            "Epoch 42/70\n",
            "266/266 [==============================] - 57s 213ms/step - loss: 0.5404 - accuracy: 0.7608 - val_loss: 0.4950 - val_accuracy: 0.7889\n",
            "Epoch 43/70\n",
            "266/266 [==============================] - 57s 213ms/step - loss: 0.5410 - accuracy: 0.7604 - val_loss: 0.4933 - val_accuracy: 0.7902\n",
            "Epoch 44/70\n",
            "266/266 [==============================] - 57s 213ms/step - loss: 0.5379 - accuracy: 0.7592 - val_loss: 0.4896 - val_accuracy: 0.7879\n",
            "Epoch 45/70\n",
            "266/266 [==============================] - 49s 184ms/step - loss: 0.5382 - accuracy: 0.7612 - val_loss: 0.4898 - val_accuracy: 0.7906\n",
            "Epoch 46/70\n",
            "266/266 [==============================] - 56s 212ms/step - loss: 0.5405 - accuracy: 0.7607 - val_loss: 0.5035 - val_accuracy: 0.7922\n",
            "Epoch 47/70\n",
            "266/266 [==============================] - 57s 214ms/step - loss: 0.5359 - accuracy: 0.7628 - val_loss: 0.4984 - val_accuracy: 0.7861\n",
            "Epoch 48/70\n",
            "266/266 [==============================] - 56s 212ms/step - loss: 0.5361 - accuracy: 0.7634 - val_loss: 0.4895 - val_accuracy: 0.7891\n",
            "Epoch 49/70\n",
            "266/266 [==============================] - 56s 212ms/step - loss: 0.5366 - accuracy: 0.7630 - val_loss: 0.4865 - val_accuracy: 0.7895\n",
            "Epoch 50/70\n",
            "266/266 [==============================] - 49s 184ms/step - loss: 0.5348 - accuracy: 0.7633 - val_loss: 0.4922 - val_accuracy: 0.7897\n",
            "Epoch 51/70\n",
            "266/266 [==============================] - 56s 211ms/step - loss: 0.5346 - accuracy: 0.7642 - val_loss: 0.4908 - val_accuracy: 0.7903\n",
            "Epoch 52/70\n",
            "266/266 [==============================] - 57s 214ms/step - loss: 0.5355 - accuracy: 0.7623 - val_loss: 0.4892 - val_accuracy: 0.7883\n",
            "Epoch 53/70\n",
            "266/266 [==============================] - 56s 212ms/step - loss: 0.5327 - accuracy: 0.7642 - val_loss: 0.4814 - val_accuracy: 0.7930\n",
            "Epoch 54/70\n",
            "266/266 [==============================] - 49s 183ms/step - loss: 0.5317 - accuracy: 0.7650 - val_loss: 0.4896 - val_accuracy: 0.7929\n",
            "Epoch 55/70\n",
            "266/266 [==============================] - 48s 182ms/step - loss: 0.5314 - accuracy: 0.7644 - val_loss: 0.4964 - val_accuracy: 0.7897\n",
            "Epoch 56/70\n",
            "266/266 [==============================] - 56s 211ms/step - loss: 0.5342 - accuracy: 0.7638 - val_loss: 0.4859 - val_accuracy: 0.7909\n",
            "Epoch 57/70\n",
            "266/266 [==============================] - 56s 212ms/step - loss: 0.5319 - accuracy: 0.7623 - val_loss: 0.4910 - val_accuracy: 0.7932\n",
            "Epoch 58/70\n",
            "266/266 [==============================] - 56s 211ms/step - loss: 0.5306 - accuracy: 0.7663 - val_loss: 0.4927 - val_accuracy: 0.7947\n",
            "Epoch 59/70\n",
            "266/266 [==============================] - 56s 211ms/step - loss: 0.5317 - accuracy: 0.7651 - val_loss: 0.4860 - val_accuracy: 0.7936\n",
            "Epoch 60/70\n",
            "266/266 [==============================] - 49s 182ms/step - loss: 0.5323 - accuracy: 0.7638 - val_loss: 0.5007 - val_accuracy: 0.7894\n",
            "Epoch 61/70\n",
            "266/266 [==============================] - 48s 181ms/step - loss: 0.5282 - accuracy: 0.7665 - val_loss: 0.4870 - val_accuracy: 0.7956\n",
            "Epoch 62/70\n",
            "266/266 [==============================] - 48s 181ms/step - loss: 0.5299 - accuracy: 0.7667 - val_loss: 0.4821 - val_accuracy: 0.7956\n",
            "Epoch 63/70\n",
            "266/266 [==============================] - 56s 210ms/step - loss: 0.5296 - accuracy: 0.7680 - val_loss: 0.4876 - val_accuracy: 0.7948\n",
            "Epoch 64/70\n",
            "266/266 [==============================] - 56s 212ms/step - loss: 0.5287 - accuracy: 0.7663 - val_loss: 0.4810 - val_accuracy: 0.7972\n",
            "Epoch 65/70\n",
            "266/266 [==============================] - 56s 211ms/step - loss: 0.5273 - accuracy: 0.7680 - val_loss: 0.4910 - val_accuracy: 0.7980\n",
            "Epoch 66/70\n",
            "266/266 [==============================] - 56s 211ms/step - loss: 0.5266 - accuracy: 0.7673 - val_loss: 0.4838 - val_accuracy: 0.7960\n",
            "Epoch 67/70\n",
            "266/266 [==============================] - 57s 213ms/step - loss: 0.5276 - accuracy: 0.7681 - val_loss: 0.4885 - val_accuracy: 0.7937\n",
            "Epoch 68/70\n",
            "266/266 [==============================] - 49s 182ms/step - loss: 0.5244 - accuracy: 0.7679 - val_loss: 0.4874 - val_accuracy: 0.7945\n",
            "Epoch 69/70\n",
            "266/266 [==============================] - 56s 211ms/step - loss: 0.5243 - accuracy: 0.7699 - val_loss: 0.4913 - val_accuracy: 0.7923\n",
            "Epoch 70/70\n",
            "266/266 [==============================] - 56s 212ms/step - loss: 0.5256 - accuracy: 0.7687 - val_loss: 0.4868 - val_accuracy: 0.7978\n"
          ]
        }
      ]
    },
    {
      "cell_type": "code",
      "source": [
        "t2 = time()\n",
        "t_delta = round(t2-t1,2)\n",
        "print(t_delta)"
      ],
      "metadata": {
        "colab": {
          "base_uri": "https://localhost:8080/"
        },
        "id": "Xs4mYm1X_i-E",
        "outputId": "b55cdbdf-0052-42a1-835f-03973a14268e"
      },
      "execution_count": null,
      "outputs": [
        {
          "output_type": "stream",
          "name": "stdout",
          "text": [
            "3949.72\n"
          ]
        }
      ]
    },
    {
      "cell_type": "code",
      "source": [
        "# Accuracy\n",
        "plt.plot(hist.history['accuracy'])\n",
        "plt.plot(hist.history['val_accuracy'])\n",
        "plt.title('model accuracy')\n",
        "plt.ylabel('accuracy')\n",
        "plt.xlabel('epoch')\n",
        "plt.legend(['train', 'validation'], loc='upper left')\n",
        "plt.show()\n",
        "\n",
        "# Loss\n",
        "plt.plot(hist.history['loss'])\n",
        "plt.plot(hist.history['val_loss'])\n",
        "plt.title('model loss')\n",
        "plt.ylabel('loss')\n",
        "plt.xlabel('epoch')\n",
        "plt.legend(['train', 'validation'], loc='upper left')\n",
        "plt.show()"
      ],
      "metadata": {
        "colab": {
          "base_uri": "https://localhost:8080/",
          "height": 927
        },
        "id": "reXQ5ox6_jAx",
        "outputId": "21563a51-ee97-4b2a-d446-48cd69f26bc4"
      },
      "execution_count": null,
      "outputs": [
        {
          "output_type": "display_data",
          "data": {
            "text/plain": [
              "<Figure size 640x480 with 1 Axes>"
            ],
            "image/png": "[encoded data removed]"
          },
          "metadata": {}
        },
        {
          "output_type": "display_data",
          "data": {
            "text/plain": [
              "<Figure size 640x480 with 1 Axes>"
            ],
            "image/png": "[encoded data removed]"
          },
          "metadata": {}
        }
      ]
    },
    {
      "cell_type": "code",
      "source": [
        "import numpy as np\n",
        "from sklearn.metrics import precision_recall_fscore_support"
      ],
      "metadata": {
        "id": "bJ2F6tEL_jDg"
      },
      "execution_count": null,
      "outputs": []
    },
    {
      "cell_type": "code",
      "source": [
        "predictions = model.predict(X_test_pad)\n",
        "predictions = np.argmax(predictions, axis=1)\n",
        "predictions = [class_names[pred] for pred in predictions]"
      ],
      "metadata": {
        "colab": {
          "base_uri": "https://localhost:8080/"
        },
        "id": "68U0NZCm_jGA",
        "outputId": "73ccace3-d17f-4004-8113-93ed99f08e10"
      },
      "execution_count": null,
      "outputs": [
        {
          "output_type": "stream",
          "name": "stdout",
          "text": [
            "2123/2123 [==============================] - 34s 15ms/step\n"
          ]
        }
      ]
    },
    {
      "cell_type": "code",
      "source": [
        "import numpy as np\n",
        "from sklearn.metrics import precision_recall_fscore_support"
      ],
      "metadata": {
        "id": "9cozESyw_jJC"
      },
      "execution_count": null,
      "outputs": []
    },
    {
      "cell_type": "code",
      "source": [
        "print(precision_recall_fscore_support(data_test.Class, predictions, average='micro'))\n",
        "print(precision_recall_fscore_support(data_test.Class, predictions, average='macro'))\n",
        "print(precision_recall_fscore_support(data_test.Class, predictions, average='weighted'))"
      ],
      "metadata": {
        "colab": {
          "base_uri": "https://localhost:8080/"
        },
        "id": "7UnbmQQ7_r12",
        "outputId": "ad12c463-2d65-41e5-f316-fa20bbe58548"
      },
      "execution_count": null,
      "outputs": [
        {
          "output_type": "stream",
          "name": "stdout",
          "text": [
            "(0.7977680280321545, 0.7977680280321545, 0.7977680280321545, None)\n",
            "(0.794535890357265, 0.7977754996177139, 0.790613788162486, None)\n",
            "(0.7945404986846805, 0.7977680280321545, 0.7906137875657483, None)\n"
          ]
        }
      ]
    },
    {
      "cell_type": "code",
      "source": [
        "\n",
        "def plot_confusion_matrix(y_true, y_pred, classes,\n",
        "                          normalize=False,\n",
        "                          title=None,\n",
        "                          cmap=plt.cm.Blues):\n",
        "    if not title:\n",
        "        if normalize:\n",
        "            title = 'Normalized confusion matrix'\n",
        "        else:\n",
        "            title = 'Confusion matrix, without normalization'\n",
        "\n",
        "    cm = confusion_matrix(y_true, y_pred)\n",
        "\n",
        "    if normalize:\n",
        "        cm = cm.astype('float') / cm.sum(axis=1)[:, np.newaxis]\n",
        "\n",
        "    fig, ax = plt.subplots()\n",
        "\n",
        "    fig.set_size_inches(12.5, 7.5)\n",
        "    im = ax.imshow(cm, interpolation='nearest', cmap=cmap)\n",
        "    ax.figure.colorbar(im, ax=ax)\n",
        "    ax.grid(False)\n",
        "\n",
        "    ax.set(xticks=np.arange(cm.shape[1]),\n",
        "           yticks=np.arange(cm.shape[0]),\n",
        "           xticklabels=classes, yticklabels=classes,\n",
        "           title=title,\n",
        "           ylabel='True label',\n",
        "           xlabel='Predicted label')\n",
        "\n",
        "    plt.setp(ax.get_xticklabels(), rotation=45, ha=\"right\",\n",
        "             rotation_mode=\"anchor\")\n",
        "\n",
        "    fmt = '.2f' if normalize else 'd'\n",
        "    thresh = cm.max() / 2.\n",
        "    for i in range(cm.shape[0]):\n",
        "        for j in range(cm.shape[1]):\n",
        "            ax.text(j, i, format(cm[i, j], fmt),\n",
        "                    ha=\"center\", va=\"center\",\n",
        "                    color=\"white\" if cm[i, j] > thresh else \"black\")\n",
        "    fig.tight_layout()\n",
        "    return ax\n",
        "\n",
        "print(\"\\nF1 Score: {:.2f}\".format(f1_score(data_test.Class, predictions, average='micro') * 100))\n",
        "\n",
        "plot_confusion_matrix(data_test.Class, predictions, classes=class_names, normalize=True, title='Normalized confusion matrix')\n",
        "plt.show()\n",
        "\n",
        "print('Message: {}\\nPredicted: {}'.format(X_test[6], predictions[6]))"
      ],
      "metadata": {
        "colab": {
          "base_uri": "https://localhost:8080/",
          "height": 826
        },
        "id": "gcTdTB9H_r4Q",
        "outputId": "b51d30dc-8f23-463f-fb57-53d460cc2843"
      },
      "execution_count": null,
      "outputs": [
        {
          "output_type": "stream",
          "name": "stdout",
          "text": [
            "\n",
            "F1 Score: 79.78\n"
          ]
        },
        {
          "output_type": "display_data",
          "data": {
            "text/plain": [
              "<Figure size 1250x750 with 2 Axes>"
            ],
            "image/png": "[encoded data removed]"
          },
          "metadata": {}
        },
        {
          "output_type": "stream",
          "name": "stdout",
          "text": [
            "Message: Great app\n",
            "Predicted: Positive\n"
          ]
        }
      ]
    },
    {
      "cell_type": "code",
      "source": [
        "from sklearn.metrics import accuracy_score, precision_score, recall_score, f1_score\n",
        "print('\\nAccuracy: {:.2f}\\n'.format(accuracy_score(data_test.Class, predictions)))\n",
        "\n",
        "print('Micro Precision: {:.2f}'.format(precision_score(data_test.Class, predictions, average='micro')))\n",
        "print('Micro Recall: {:.2f}'.format(recall_score(data_test.Class, predictions, average='micro')))\n",
        "print('Micro F1-score: {:.2f}\\n'.format(f1_score(data_test.Class, predictions, average='micro')))\n",
        "\n",
        "print('Macro Precision: {:.2f}'.format(precision_score(data_test.Class, predictions, average='macro')))\n",
        "print('Macro Recall: {:.2f}'.format(recall_score(data_test.Class, predictions, average='macro')))\n",
        "print('Macro F1-score: {:.2f}\\n'.format(f1_score(data_test.Class, predictions, average='macro')))\n",
        "\n",
        "print('Weighted Precision: {:.2f}'.format(precision_score(data_test.Class, predictions, average='weighted')))\n",
        "print('Weighted Recall: {:.2f}'.format(recall_score(data_test.Class, predictions, average='weighted')))\n",
        "print('Weighted F1-score: {:.2f}'.format(f1_score(data_test.Class, predictions, average='weighted')))\n",
        "\n",
        "from sklearn.metrics import classification_report\n",
        "print('\\nClassification Report\\n')\n",
        "print(classification_report(data_test.Class, predictions, target_names=class_names))"
      ],
      "metadata": {
        "colab": {
          "base_uri": "https://localhost:8080/"
        },
        "id": "Cc21hfbo_r68",
        "outputId": "daea4c99-d006-40c4-ef6c-8d17c962978e"
      },
      "execution_count": null,
      "outputs": [
        {
          "output_type": "stream",
          "name": "stdout",
          "text": [
            "\n",
            "Accuracy: 0.80\n",
            "\n",
            "Micro Precision: 0.80\n",
            "Micro Recall: 0.80\n",
            "Micro F1-score: 0.80\n",
            "\n",
            "Macro Precision: 0.79\n",
            "Macro Recall: 0.80\n",
            "Macro F1-score: 0.79\n",
            "\n",
            "Weighted Precision: 0.79\n",
            "Weighted Recall: 0.80\n",
            "Weighted F1-score: 0.79\n",
            "\n",
            "Classification Report\n",
            "\n",
            "              precision    recall  f1-score   support\n",
            "\n",
            "    Positive       0.82      0.86      0.84     22657\n",
            "    Negative       0.76      0.59      0.67     22638\n",
            "     Neutral       0.80      0.94      0.87     22627\n",
            "\n",
            "    accuracy                           0.80     67922\n",
            "   macro avg       0.79      0.80      0.79     67922\n",
            "weighted avg       0.79      0.80      0.79     67922\n",
            "\n"
          ]
        }
      ]
    },
    {
      "cell_type": "code",
      "source": [
        "from sklearn.metrics import confusion_matrix, classification_report, log_loss, cohen_kappa_score, roc_auc_score, roc_curve\n",
        "from sklearn import metrics\n",
        "\n",
        "cm = confusion_matrix(data_test.Class, predictions)\n",
        "\n",
        "TP = cm[0][0]\n",
        "TN = cm[1][1]\n",
        "FP = cm[0][1]\n",
        "FN = cm[1][0]"
      ],
      "metadata": {
        "id": "dujAReIW_r9N"
      },
      "execution_count": null,
      "outputs": []
    },
    {
      "cell_type": "code",
      "source": [
        "from sklearn import metrics\n",
        "print('Sensitivity : ', TP/(TP+FN))\n",
        "print('Specificity : ', TN/(TN+FP))\n",
        "print('false positive rate : ', FP/(FP+TN))\n",
        "print('false negative rate : ', FN/(FN+TP))\n",
        "print('Negative Predictive Value : ', TN/(TN+FN))\n",
        "print('False Discovery rate : ', FP/(TP+FP))\n"
      ],
      "metadata": {
        "colab": {
          "base_uri": "https://localhost:8080/"
        },
        "id": "Sjk3y02p_r_b",
        "outputId": "c7b91a0d-cafb-443f-feff-546ee353e7a2"
      },
      "execution_count": null,
      "outputs": [
        {
          "output_type": "stream",
          "name": "stdout",
          "text": [
            "Sensitivity :  0.8243823616957945\n",
            "Specificity :  0.8110668597634564\n",
            "false positive rate :  0.18893314023654356\n",
            "false negative rate :  0.17561763830420546\n",
            "Negative Predictive Value :  0.7649536167548802\n",
            "False Discovery rate :  0.13904432009947598\n"
          ]
        }
      ]
    },
    {
      "cell_type": "code",
      "source": [
        "print('Mean Absolute Error:', metrics.mean_absolute_error(y_test,model.predict(X_test_pad)))\n",
        "print('Mean Squared Error:', metrics.mean_squared_error(y_test,model.predict(X_test_pad)))\n",
        "print('Root Mean Squared Error:', np.sqrt(metrics.mean_squared_error(y_test,model.predict(X_test_pad))))\n",
        "print('Cohen_Kappa_Score:', cohen_kappa_score(data_test.Class, predictions))"
      ],
      "metadata": {
        "colab": {
          "base_uri": "https://localhost:8080/"
        },
        "id": "ArBoUU4D_0zw",
        "outputId": "9d92dd0e-ff82-404a-d46e-b944b0aadcea"
      },
      "execution_count": null,
      "outputs": [
        {
          "output_type": "stream",
          "name": "stdout",
          "text": [
            "2123/2123 [==============================] - 34s 16ms/step\n",
            "Mean Absolute Error: 0.22262137\n",
            "2123/2123 [==============================] - 32s 15ms/step\n",
            "Mean Squared Error: 0.09861622\n",
            "2123/2123 [==============================] - 32s 15ms/step\n",
            "Root Mean Squared Error: 0.3140322\n",
            "Cohen_Kappa_Score: 0.6966542309728525\n"
          ]
        }
      ]
    },
    {
      "cell_type": "code",
      "source": [
        "import time\n",
        "\n",
        "message = ['Quite often the app kicks you out and does not allow you to check in - seems to have a few bugs']\n",
        "\n",
        "seq = tokenizer.texts_to_sequences(message)\n",
        "padded = pad_sequences(seq, maxlen=max_seq_len)\n",
        "\n",
        "start_time = time.time()\n",
        "pred = model.predict(padded)\n",
        "\n",
        "print('Message: ' + str(message))\n",
        "print('predicted: {} ({:.2f} seconds)'.format(class_names[np.argmax(pred)], (time.time() - start_time)))"
      ],
      "metadata": {
        "colab": {
          "base_uri": "https://localhost:8080/"
        },
        "id": "yfkEtlil_02J",
        "outputId": "0b013c3e-ef8f-4d65-8ec8-a3722ff66c55"
      },
      "execution_count": null,
      "outputs": [
        {
          "output_type": "stream",
          "name": "stdout",
          "text": [
            "1/1 [==============================] - 0s 108ms/step\n",
            "Message: ['Quite often the app kicks you out and does not allow you to check in - seems to have a few bugs']\n",
            "predicted: Neutral (0.16 seconds)\n"
          ]
        }
      ]
    },
    {
      "cell_type": "code",
      "source": [
        "import time\n",
        "\n",
        "message = [\"I still can't get this app to open. It used to work and now it tries and shuts down\"]\n",
        "\n",
        "seq = tokenizer.texts_to_sequences(message)\n",
        "padded = pad_sequences(seq, maxlen=max_seq_len)\n",
        "\n",
        "start_time = time.time()\n",
        "pred = model.predict(padded)\n",
        "\n",
        "print('Message: ' + str(message))\n",
        "print('predicted: {} ({:.2f} seconds)'.format(class_names[np.argmax(pred)], (time.time() - start_time)))"
      ],
      "metadata": {
        "colab": {
          "base_uri": "https://localhost:8080/"
        },
        "id": "VXdhoeVX_04r",
        "outputId": "303141f6-9603-4360-a5bc-3af4fba615fa"
      },
      "execution_count": null,
      "outputs": [
        {
          "output_type": "stream",
          "name": "stdout",
          "text": [
            "1/1 [==============================] - 0s 29ms/step\n",
            "Message: [\"I still can't get this app to open. It used to work and now it tries and shuts down\"]\n",
            "predicted: Negative (0.08 seconds)\n"
          ]
        }
      ]
    },
    {
      "cell_type": "code",
      "source": [
        "import time\n",
        "\n",
        "message = [\"Always gets me where I want to go. Easy to use!\"]\n",
        "\n",
        "seq = tokenizer.texts_to_sequences(message)\n",
        "padded = pad_sequences(seq, maxlen=max_seq_len)\n",
        "\n",
        "start_time = time.time()\n",
        "pred = model.predict(padded)\n",
        "\n",
        "print('Message: ' + str(message))\n",
        "print('predicted: {} ({:.2f} seconds)'.format(class_names[np.argmax(pred)], (time.time() - start_time)))"
      ],
      "metadata": {
        "colab": {
          "base_uri": "https://localhost:8080/"
        },
        "id": "rCX8O6PK_07g",
        "outputId": "cdfd75d0-ce3f-43a2-9ec4-419f6adc589c"
      },
      "execution_count": null,
      "outputs": [
        {
          "output_type": "stream",
          "name": "stdout",
          "text": [
            "1/1 [==============================] - 0s 30ms/step\n",
            "Message: ['Always gets me where I want to go. Easy to use!']\n",
            "predicted: Positive (0.08 seconds)\n"
          ]
        }
      ]
    }
  ],
  "metadata": {
    "accelerator": "GPU",
    "colab": {
      "provenance": [],
      "authorship_tag": "ABX9TyO8vkGipLRKEQtX3Vj2tTy6",
      "include_colab_link": true
    },
    "kernelspec": {
      "display_name": "Python 3",
      "name": "python3"
    },
    "language_info": {
      "name": "python"
    }
  },
  "nbformat": 4,
  "nbformat_minor": 0
}